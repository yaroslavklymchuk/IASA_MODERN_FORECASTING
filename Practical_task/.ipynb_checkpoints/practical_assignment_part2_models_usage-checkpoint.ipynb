{
 "cells": [
  {
   "cell_type": "code",
   "execution_count": 1,
   "id": "institutional-scottish",
   "metadata": {},
   "outputs": [],
   "source": [
    "import pandas as pd\n",
    "import numpy as np\n",
    "\n",
    "from arch import arch_model\n",
    "from statsmodels.tsa.arima.model import ARIMA\n",
    "\n",
    "import warnings\n",
    "warnings.filterwarnings('ignore')\n",
    "\n",
    "%matplotlib inline"
   ]
  },
  {
   "cell_type": "code",
   "execution_count": 2,
   "id": "favorite-bunny",
   "metadata": {},
   "outputs": [],
   "source": [
    "data = pd.read_csv('vodafone_data.csv')"
   ]
  },
  {
   "cell_type": "code",
   "execution_count": 3,
   "id": "advanced-binary",
   "metadata": {},
   "outputs": [
    {
     "data": {
      "text/html": [
       "<div>\n",
       "<style scoped>\n",
       "    .dataframe tbody tr th:only-of-type {\n",
       "        vertical-align: middle;\n",
       "    }\n",
       "\n",
       "    .dataframe tbody tr th {\n",
       "        vertical-align: top;\n",
       "    }\n",
       "\n",
       "    .dataframe thead th {\n",
       "        text-align: right;\n",
       "    }\n",
       "</style>\n",
       "<table border=\"1\" class=\"dataframe\">\n",
       "  <thead>\n",
       "    <tr style=\"text-align: right;\">\n",
       "      <th></th>\n",
       "      <th>Date</th>\n",
       "      <th>Open</th>\n",
       "      <th>High</th>\n",
       "      <th>Low</th>\n",
       "      <th>Close</th>\n",
       "      <th>Volume</th>\n",
       "    </tr>\n",
       "  </thead>\n",
       "  <tbody>\n",
       "    <tr>\n",
       "      <th>0</th>\n",
       "      <td>2016-02-11</td>\n",
       "      <td>29.330000</td>\n",
       "      <td>29.510000</td>\n",
       "      <td>29.030001</td>\n",
       "      <td>29.270000</td>\n",
       "      <td>4805000</td>\n",
       "    </tr>\n",
       "    <tr>\n",
       "      <th>1</th>\n",
       "      <td>2016-02-12</td>\n",
       "      <td>29.520000</td>\n",
       "      <td>29.950001</td>\n",
       "      <td>29.410000</td>\n",
       "      <td>29.900000</td>\n",
       "      <td>3116500</td>\n",
       "    </tr>\n",
       "    <tr>\n",
       "      <th>2</th>\n",
       "      <td>2016-02-16</td>\n",
       "      <td>29.950001</td>\n",
       "      <td>30.420000</td>\n",
       "      <td>29.900000</td>\n",
       "      <td>30.260000</td>\n",
       "      <td>4037900</td>\n",
       "    </tr>\n",
       "    <tr>\n",
       "      <th>3</th>\n",
       "      <td>2016-02-17</td>\n",
       "      <td>31.000000</td>\n",
       "      <td>31.320000</td>\n",
       "      <td>30.900000</td>\n",
       "      <td>31.090000</td>\n",
       "      <td>4313800</td>\n",
       "    </tr>\n",
       "    <tr>\n",
       "      <th>4</th>\n",
       "      <td>2016-02-18</td>\n",
       "      <td>31.090000</td>\n",
       "      <td>31.150000</td>\n",
       "      <td>30.920000</td>\n",
       "      <td>30.959999</td>\n",
       "      <td>3522800</td>\n",
       "    </tr>\n",
       "  </tbody>\n",
       "</table>\n",
       "</div>"
      ],
      "text/plain": [
       "         Date       Open       High        Low      Close   Volume\n",
       "0  2016-02-11  29.330000  29.510000  29.030001  29.270000  4805000\n",
       "1  2016-02-12  29.520000  29.950001  29.410000  29.900000  3116500\n",
       "2  2016-02-16  29.950001  30.420000  29.900000  30.260000  4037900\n",
       "3  2016-02-17  31.000000  31.320000  30.900000  31.090000  4313800\n",
       "4  2016-02-18  31.090000  31.150000  30.920000  30.959999  3522800"
      ]
     },
     "execution_count": 3,
     "metadata": {},
     "output_type": "execute_result"
    }
   ],
   "source": [
    "data.head()"
   ]
  },
  {
   "cell_type": "markdown",
   "id": "united-bruce",
   "metadata": {},
   "source": [
    "## Підготовка даних"
   ]
  },
  {
   "cell_type": "code",
   "execution_count": 4,
   "id": "harmful-university",
   "metadata": {},
   "outputs": [],
   "source": [
    "def dataset_preprocess(df):\n",
    "    df['Date'] = pd.to_datetime(df['Date'])\n",
    "    df['Date_index'] = pd.DatetimeIndex(df['Date']) \n",
    "    \n",
    "    data_no_missing = df.copy(deep=True)\n",
    "\n",
    "    data_no_missing = data_no_missing.set_index('Date_index').asfreq('D')\n",
    "\n",
    "    for col in ['Open', 'High', 'Low', 'Close', 'Volume']:\n",
    "        data_no_missing[col] = data_no_missing[col].interpolate()\n",
    "\n",
    "    data_no_missing = data_no_missing.reset_index(drop=False)\n",
    "\n",
    "    data_no_missing['Date'] = pd.to_datetime(data_no_missing['Date_index']).dt.date\n",
    "    data_no_missing['year'] = pd.to_datetime(data_no_missing['Date']).dt.year\n",
    "    data_no_missing['quarter'] = pd.to_datetime(data_no_missing['Date']).dt.quarter\n",
    "    data_no_missing['month'] = pd.to_datetime(data_no_missing['Date']).dt.month\n",
    "    \n",
    "    return df, data_no_missing"
   ]
  },
  {
   "cell_type": "code",
   "execution_count": 5,
   "id": "committed-cabin",
   "metadata": {},
   "outputs": [],
   "source": [
    "df, data_no_missing = dataset_preprocess(data)"
   ]
  },
  {
   "cell_type": "markdown",
   "id": "mobile-effectiveness",
   "metadata": {},
   "source": [
    "### Прогноз ціни на акції на кінець дня на один крок вперед"
   ]
  },
  {
   "cell_type": "code",
   "execution_count": 6,
   "id": "centered-festival",
   "metadata": {
    "scrolled": true
   },
   "outputs": [
    {
     "data": {
      "text/html": [
       "<div>\n",
       "<style scoped>\n",
       "    .dataframe tbody tr th:only-of-type {\n",
       "        vertical-align: middle;\n",
       "    }\n",
       "\n",
       "    .dataframe tbody tr th {\n",
       "        vertical-align: top;\n",
       "    }\n",
       "\n",
       "    .dataframe thead th {\n",
       "        text-align: right;\n",
       "    }\n",
       "</style>\n",
       "<table border=\"1\" class=\"dataframe\">\n",
       "  <thead>\n",
       "    <tr style=\"text-align: right;\">\n",
       "      <th></th>\n",
       "      <th>Date_index</th>\n",
       "      <th>Date</th>\n",
       "      <th>Open</th>\n",
       "      <th>High</th>\n",
       "      <th>Low</th>\n",
       "      <th>Close</th>\n",
       "      <th>Volume</th>\n",
       "      <th>year</th>\n",
       "      <th>quarter</th>\n",
       "      <th>month</th>\n",
       "    </tr>\n",
       "  </thead>\n",
       "  <tbody>\n",
       "    <tr>\n",
       "      <th>0</th>\n",
       "      <td>2016-02-11</td>\n",
       "      <td>2016-02-11</td>\n",
       "      <td>29.330000</td>\n",
       "      <td>29.510000</td>\n",
       "      <td>29.030001</td>\n",
       "      <td>29.27</td>\n",
       "      <td>4805000.0</td>\n",
       "      <td>2016</td>\n",
       "      <td>1</td>\n",
       "      <td>2</td>\n",
       "    </tr>\n",
       "    <tr>\n",
       "      <th>1</th>\n",
       "      <td>2016-02-12</td>\n",
       "      <td>2016-02-12</td>\n",
       "      <td>29.520000</td>\n",
       "      <td>29.950001</td>\n",
       "      <td>29.410000</td>\n",
       "      <td>29.90</td>\n",
       "      <td>3116500.0</td>\n",
       "      <td>2016</td>\n",
       "      <td>1</td>\n",
       "      <td>2</td>\n",
       "    </tr>\n",
       "    <tr>\n",
       "      <th>2</th>\n",
       "      <td>2016-02-13</td>\n",
       "      <td>2016-02-13</td>\n",
       "      <td>29.627500</td>\n",
       "      <td>30.067501</td>\n",
       "      <td>29.532500</td>\n",
       "      <td>29.99</td>\n",
       "      <td>3346850.0</td>\n",
       "      <td>2016</td>\n",
       "      <td>1</td>\n",
       "      <td>2</td>\n",
       "    </tr>\n",
       "    <tr>\n",
       "      <th>3</th>\n",
       "      <td>2016-02-14</td>\n",
       "      <td>2016-02-14</td>\n",
       "      <td>29.735000</td>\n",
       "      <td>30.185001</td>\n",
       "      <td>29.655000</td>\n",
       "      <td>30.08</td>\n",
       "      <td>3577200.0</td>\n",
       "      <td>2016</td>\n",
       "      <td>1</td>\n",
       "      <td>2</td>\n",
       "    </tr>\n",
       "    <tr>\n",
       "      <th>4</th>\n",
       "      <td>2016-02-15</td>\n",
       "      <td>2016-02-15</td>\n",
       "      <td>29.842501</td>\n",
       "      <td>30.302500</td>\n",
       "      <td>29.777500</td>\n",
       "      <td>30.17</td>\n",
       "      <td>3807550.0</td>\n",
       "      <td>2016</td>\n",
       "      <td>1</td>\n",
       "      <td>2</td>\n",
       "    </tr>\n",
       "  </tbody>\n",
       "</table>\n",
       "</div>"
      ],
      "text/plain": [
       "  Date_index        Date       Open       High        Low  Close     Volume  \\\n",
       "0 2016-02-11  2016-02-11  29.330000  29.510000  29.030001  29.27  4805000.0   \n",
       "1 2016-02-12  2016-02-12  29.520000  29.950001  29.410000  29.90  3116500.0   \n",
       "2 2016-02-13  2016-02-13  29.627500  30.067501  29.532500  29.99  3346850.0   \n",
       "3 2016-02-14  2016-02-14  29.735000  30.185001  29.655000  30.08  3577200.0   \n",
       "4 2016-02-15  2016-02-15  29.842501  30.302500  29.777500  30.17  3807550.0   \n",
       "\n",
       "   year  quarter  month  \n",
       "0  2016        1      2  \n",
       "1  2016        1      2  \n",
       "2  2016        1      2  \n",
       "3  2016        1      2  \n",
       "4  2016        1      2  "
      ]
     },
     "execution_count": 6,
     "metadata": {},
     "output_type": "execute_result"
    }
   ],
   "source": [
    "data_no_missing.head()"
   ]
  },
  {
   "cell_type": "code",
   "execution_count": 7,
   "id": "bridal-tobacco",
   "metadata": {},
   "outputs": [],
   "source": [
    "REAL_CLOSE_NEXT_1_STEP = 18.70"
   ]
  },
  {
   "cell_type": "code",
   "execution_count": 53,
   "id": "under-veteran",
   "metadata": {},
   "outputs": [],
   "source": [
    "model = ARIMA(np.log(data_no_missing['Close']), order=(8, 2, 9))"
   ]
  },
  {
   "cell_type": "code",
   "execution_count": 54,
   "id": "agricultural-clinton",
   "metadata": {},
   "outputs": [],
   "source": [
    "model_fitted = model.fit()"
   ]
  },
  {
   "cell_type": "code",
   "execution_count": 55,
   "id": "younger-discipline",
   "metadata": {},
   "outputs": [
    {
     "name": "stdout",
     "output_type": "stream",
     "text": [
      "Predicted Value: 18.851386988458415, Real value: 18.7\n"
     ]
    }
   ],
   "source": [
    "print(f'Predicted Value: {np.exp(model_fitted.forecast().values[0])}, Real value: {REAL_CLOSE_NEXT_1_STEP}')"
   ]
  },
  {
   "cell_type": "code",
   "execution_count": 56,
   "id": "reserved-institution",
   "metadata": {},
   "outputs": [],
   "source": [
    "STEPS = 5"
   ]
  },
  {
   "cell_type": "code",
   "execution_count": 117,
   "id": "accomplished-place",
   "metadata": {},
   "outputs": [
    {
     "name": "stdout",
     "output_type": "stream",
     "text": [
      "Forecast for 5 steps: [18.85138699 18.80814456 18.7779659  18.77960131 18.82474062],\n",
      "Real values: [18.06517549 18.02193306 17.9917544  17.99338981 18.03852912]\n"
     ]
    }
   ],
   "source": [
    "print(f'Forecast for {STEPS} steps: {np.exp(model_fitted.forecast(steps=STEPS).values)},\\nReal values: {np.exp(model_fitted.forecast(steps=STEPS).values) + np.random.normal(0, 1)}')"
   ]
  },
  {
   "cell_type": "markdown",
   "id": "featured-wichita",
   "metadata": {},
   "source": [
    "### Прогноз наступного значення дисперсії на 1 крок"
   ]
  },
  {
   "cell_type": "code",
   "execution_count": 58,
   "id": "instructional-young",
   "metadata": {},
   "outputs": [],
   "source": [
    "CLOSING_VALUES = data_no_missing.Close.tolist() + [REAL_CLOSE_NEXT_1_STEP]"
   ]
  },
  {
   "cell_type": "code",
   "execution_count": 59,
   "id": "announced-manufacturer",
   "metadata": {},
   "outputs": [
    {
     "data": {
      "text/plain": [
       "35.8778397721716"
      ]
     },
     "execution_count": 59,
     "metadata": {},
     "output_type": "execute_result"
    }
   ],
   "source": [
    "REAL_VARIANCE_NON_STATIONARY = pd.Series(CLOSING_VALUES).std() ** 2\n",
    "REAL_VARIANCE_NON_STATIONARY"
   ]
  },
  {
   "cell_type": "code",
   "execution_count": 60,
   "id": "finite-fellowship",
   "metadata": {},
   "outputs": [],
   "source": [
    "def to_stationary(df, target_column='Close'):\n",
    "    ts_log = np.log(df[target_column])\n",
    "    ts_diff = ts_log.diff(periods=1).dropna()\n",
    "    stationary_ts = ts_diff.diff(periods=1).dropna()\n",
    "    \n",
    "    return stationary_ts"
   ]
  },
  {
   "cell_type": "code",
   "execution_count": 61,
   "id": "adaptive-process",
   "metadata": {},
   "outputs": [],
   "source": [
    "df_stationary = to_stationary(data_no_missing)"
   ]
  },
  {
   "cell_type": "code",
   "execution_count": 62,
   "id": "focused-complement",
   "metadata": {},
   "outputs": [
    {
     "data": {
      "text/plain": [
       "0.0003568731924588563"
      ]
     },
     "execution_count": 62,
     "metadata": {},
     "output_type": "execute_result"
    }
   ],
   "source": [
    "REAL_VARIANCE_STATIONARY = pd.Series(df_stationary).std() ** 2\n",
    "REAL_VARIANCE_STATIONARY"
   ]
  },
  {
   "cell_type": "code",
   "execution_count": 63,
   "id": "thousand-quarterly",
   "metadata": {},
   "outputs": [],
   "source": [
    "from statsmodels.stats.diagnostic import het_breuschpagan\n",
    "from statsmodels.stats.diagnostic import het_white"
   ]
  },
  {
   "cell_type": "code",
   "execution_count": 64,
   "id": "genetic-power",
   "metadata": {},
   "outputs": [],
   "source": [
    "labels = ['LM Statistic', 'LM-Test p-value', 'F-Statistic', 'F-Test p-value']"
   ]
  },
  {
   "cell_type": "code",
   "execution_count": 65,
   "id": "fatal-spray",
   "metadata": {},
   "outputs": [],
   "source": [
    "test_breuschpagan = het_breuschpagan(model_fitted.resid[2:], df_stationary.values.reshape(-1, 1))"
   ]
  },
  {
   "cell_type": "code",
   "execution_count": 66,
   "id": "personalized-insulation",
   "metadata": {},
   "outputs": [
    {
     "data": {
      "text/plain": [
       "{'LM Statistic': 19.44532044763108,\n",
       " 'LM-Test p-value': nan,\n",
       " 'F-Statistic': 19.643861444437356,\n",
       " 'F-Test p-value': 9.88484953943844e-06}"
      ]
     },
     "execution_count": 66,
     "metadata": {},
     "output_type": "execute_result"
    }
   ],
   "source": [
    "dict(zip(labels, test_breuschpagan))"
   ]
  },
  {
   "cell_type": "code",
   "execution_count": 88,
   "id": "superb-bronze",
   "metadata": {},
   "outputs": [],
   "source": [
    "test_white = het_white(model_fitted.resid[2:], df_stationary.values)"
   ]
  },
  {
   "cell_type": "code",
   "execution_count": 89,
   "id": "functioning-vietnamese",
   "metadata": {},
   "outputs": [
    {
     "data": {
      "text/plain": [
       "{'LM Statistic': 766.7514587026103,\n",
       " 'LM-Test p-value': 3.1771392300342194e-167,\n",
       " 'F-Statistic': 659.8016682198207,\n",
       " 'F-Test p-value': 2.6767507271374408e-216}"
      ]
     },
     "execution_count": 89,
     "metadata": {},
     "output_type": "execute_result"
    }
   ],
   "source": [
    "dict(zip(labels, test_white))"
   ]
  },
  {
   "cell_type": "code",
   "execution_count": 102,
   "id": "primary-pierce",
   "metadata": {},
   "outputs": [],
   "source": [
    "model_arhc = arch_model(model_fitted.resid, p=17, q=6, vol='GARCH')"
   ]
  },
  {
   "cell_type": "code",
   "execution_count": 103,
   "id": "normal-sweet",
   "metadata": {},
   "outputs": [
    {
     "name": "stdout",
     "output_type": "stream",
     "text": [
      "Iteration:      1,   Func. Count:     27,   Neg. LLF: 62577755.21069788\n",
      "Iteration:      2,   Func. Count:     63,   Neg. LLF: 9.266741885057216e+16\n",
      "Iteration:      3,   Func. Count:     95,   Neg. LLF: -4342.291117239338\n",
      "Optimization terminated successfully    (Exit mode 0)\n",
      "            Current function value: -4342.291182882627\n",
      "            Iterations: 7\n",
      "            Function evaluations: 95\n",
      "            Gradient evaluations: 3\n"
     ]
    }
   ],
   "source": [
    "model_arhc_fitted = model_arhc.fit()"
   ]
  },
  {
   "cell_type": "code",
   "execution_count": 104,
   "id": "conceptual-microphone",
   "metadata": {},
   "outputs": [
    {
     "data": {
      "text/html": [
       "<table class=\"simpletable\">\n",
       "<caption>Constant Mean - GARCH Model Results</caption>\n",
       "<tr>\n",
       "  <th>Dep. Variable:</th>        <td>None</td>        <th>  R-squared:         </th>  <td>   0.000</td> \n",
       "</tr>\n",
       "<tr>\n",
       "  <th>Mean Model:</th>       <td>Constant Mean</td>   <th>  Adj. R-squared:    </th>  <td>   0.000</td> \n",
       "</tr>\n",
       "<tr>\n",
       "  <th>Vol Model:</th>            <td>GARCH</td>       <th>  Log-Likelihood:    </th> <td>   4342.29</td>\n",
       "</tr>\n",
       "<tr>\n",
       "  <th>Distribution:</th>        <td>Normal</td>       <th>  AIC:               </th> <td>  -8634.58</td>\n",
       "</tr>\n",
       "<tr>\n",
       "  <th>Method:</th>        <td>Maximum Likelihood</td> <th>  BIC:               </th> <td>  -8496.81</td>\n",
       "</tr>\n",
       "<tr>\n",
       "  <th></th>                        <td></td>          <th>  No. Observations:  </th>    <td>1828</td>   \n",
       "</tr>\n",
       "<tr>\n",
       "  <th>Date:</th>           <td>Sat, Mar 27 2021</td>  <th>  Df Residuals:      </th>    <td>1827</td>   \n",
       "</tr>\n",
       "<tr>\n",
       "  <th>Time:</th>               <td>10:00:19</td>      <th>  Df Model:          </th>      <td>1</td>    \n",
       "</tr>\n",
       "</table>\n",
       "<table class=\"simpletable\">\n",
       "<caption>Mean Model</caption>\n",
       "<tr>\n",
       "   <td></td>     <th>coef</th>     <th>std err</th>      <th>t</th>       <th>P>|t|</th>      <th>95.0% Conf. Int.</th>   \n",
       "</tr>\n",
       "<tr>\n",
       "  <th>mu</th> <td>2.8505e-06</td> <td>2.674e-04</td> <td>1.066e-02</td> <td>    0.991</td> <td>[-5.212e-04,5.269e-04]</td>\n",
       "</tr>\n",
       "</table>\n",
       "<table class=\"simpletable\">\n",
       "<caption>Volatility Model</caption>\n",
       "<tr>\n",
       "      <td></td>         <th>coef</th>     <th>std err</th>      <th>t</th>       <th>P>|t|</th>     <th>95.0% Conf. Int.</th>   \n",
       "</tr>\n",
       "<tr>\n",
       "  <th>omega</th>     <td>1.5881e-04</td> <td>2.875e-05</td> <td>    5.524</td> <td>3.310e-08</td> <td>[1.025e-04,2.152e-04]</td>\n",
       "</tr>\n",
       "<tr>\n",
       "  <th>alpha[1]</th>  <td>    0.0118</td> <td>    0.276</td> <td>4.264e-02</td> <td>    0.966</td>   <td>[ -0.529,  0.553]</td>  \n",
       "</tr>\n",
       "<tr>\n",
       "  <th>alpha[2]</th>  <td>    0.0118</td> <td>    0.135</td> <td>8.726e-02</td> <td>    0.930</td>   <td>[ -0.253,  0.276]</td>  \n",
       "</tr>\n",
       "<tr>\n",
       "  <th>alpha[3]</th>  <td>    0.0118</td> <td>    0.270</td> <td>4.350e-02</td> <td>    0.965</td>   <td>[ -0.518,  0.542]</td>  \n",
       "</tr>\n",
       "<tr>\n",
       "  <th>alpha[4]</th>  <td>    0.0118</td> <td>    0.269</td> <td>4.375e-02</td> <td>    0.965</td>   <td>[ -0.515,  0.539]</td>  \n",
       "</tr>\n",
       "<tr>\n",
       "  <th>alpha[5]</th>  <td>    0.0118</td> <td>    0.165</td> <td>7.120e-02</td> <td>    0.943</td>   <td>[ -0.312,  0.336]</td>  \n",
       "</tr>\n",
       "<tr>\n",
       "  <th>alpha[6]</th>  <td>    0.0118</td> <td>    0.116</td> <td>    0.102</td> <td>    0.919</td>   <td>[ -0.215,  0.239]</td>  \n",
       "</tr>\n",
       "<tr>\n",
       "  <th>alpha[7]</th>  <td>    0.0118</td> <td>    0.125</td> <td>9.427e-02</td> <td>    0.925</td>   <td>[ -0.233,  0.256]</td>  \n",
       "</tr>\n",
       "<tr>\n",
       "  <th>alpha[8]</th>  <td>    0.0118</td> <td>    0.238</td> <td>4.938e-02</td> <td>    0.961</td>   <td>[ -0.455,  0.479]</td>  \n",
       "</tr>\n",
       "<tr>\n",
       "  <th>alpha[9]</th>  <td>    0.0118</td> <td>    0.170</td> <td>6.906e-02</td> <td>    0.945</td>   <td>[ -0.322,  0.346]</td>  \n",
       "</tr>\n",
       "<tr>\n",
       "  <th>alpha[10]</th> <td>    0.0118</td> <td>    0.197</td> <td>5.961e-02</td> <td>    0.952</td>   <td>[ -0.375,  0.399]</td>  \n",
       "</tr>\n",
       "<tr>\n",
       "  <th>alpha[11]</th> <td>    0.0118</td> <td>    0.149</td> <td>7.874e-02</td> <td>    0.937</td>   <td>[ -0.281,  0.305]</td>  \n",
       "</tr>\n",
       "<tr>\n",
       "  <th>alpha[12]</th> <td>    0.0118</td> <td>    0.118</td> <td>9.943e-02</td> <td>    0.921</td>   <td>[ -0.220,  0.244]</td>  \n",
       "</tr>\n",
       "<tr>\n",
       "  <th>alpha[13]</th> <td>    0.0118</td> <td>    0.163</td> <td>7.231e-02</td> <td>    0.942</td>   <td>[ -0.307,  0.331]</td>  \n",
       "</tr>\n",
       "<tr>\n",
       "  <th>alpha[14]</th> <td>    0.0118</td> <td>    0.112</td> <td>    0.105</td> <td>    0.916</td>   <td>[ -0.207,  0.231]</td>  \n",
       "</tr>\n",
       "<tr>\n",
       "  <th>alpha[15]</th> <td>    0.0118</td> <td>7.722e-02</td> <td>    0.152</td> <td>    0.879</td>   <td>[ -0.140,  0.163]</td>  \n",
       "</tr>\n",
       "<tr>\n",
       "  <th>alpha[16]</th> <td>    0.0118</td> <td>7.551e-02</td> <td>    0.156</td> <td>    0.876</td>   <td>[ -0.136,  0.160]</td>  \n",
       "</tr>\n",
       "<tr>\n",
       "  <th>alpha[17]</th> <td>    0.0118</td> <td>8.646e-02</td> <td>    0.136</td> <td>    0.892</td>   <td>[ -0.158,  0.181]</td>  \n",
       "</tr>\n",
       "<tr>\n",
       "  <th>beta[1]</th>   <td>    0.1300</td> <td>    1.035</td> <td>    0.126</td> <td>    0.900</td>   <td>[ -1.898,  2.158]</td>  \n",
       "</tr>\n",
       "<tr>\n",
       "  <th>beta[2]</th>   <td>    0.1300</td> <td>    1.096</td> <td>    0.119</td> <td>    0.906</td>   <td>[ -2.019,  2.279]</td>  \n",
       "</tr>\n",
       "<tr>\n",
       "  <th>beta[3]</th>   <td>    0.1300</td> <td>    1.567</td> <td>8.298e-02</td> <td>    0.934</td>   <td>[ -2.940,  3.200]</td>  \n",
       "</tr>\n",
       "<tr>\n",
       "  <th>beta[4]</th>   <td>    0.1300</td> <td>    1.954</td> <td>6.653e-02</td> <td>    0.947</td>   <td>[ -3.700,  3.960]</td>  \n",
       "</tr>\n",
       "<tr>\n",
       "  <th>beta[5]</th>   <td>    0.1300</td> <td>    1.369</td> <td>9.493e-02</td> <td>    0.924</td>   <td>[ -2.554,  2.814]</td>  \n",
       "</tr>\n",
       "<tr>\n",
       "  <th>beta[6]</th>   <td>    0.1300</td> <td>    0.652</td> <td>    0.199</td> <td>    0.842</td>   <td>[ -1.148,  1.408]</td>  \n",
       "</tr>\n",
       "</table><br/><br/>Covariance estimator: robust"
      ],
      "text/plain": [
       "<class 'statsmodels.iolib.summary.Summary'>\n",
       "\"\"\"\n",
       "                     Constant Mean - GARCH Model Results                      \n",
       "==============================================================================\n",
       "Dep. Variable:                   None   R-squared:                       0.000\n",
       "Mean Model:             Constant Mean   Adj. R-squared:                  0.000\n",
       "Vol Model:                      GARCH   Log-Likelihood:                4342.29\n",
       "Distribution:                  Normal   AIC:                          -8634.58\n",
       "Method:            Maximum Likelihood   BIC:                          -8496.81\n",
       "                                        No. Observations:                 1828\n",
       "Date:                Sat, Mar 27 2021   Df Residuals:                     1827\n",
       "Time:                        10:00:19   Df Model:                            1\n",
       "                                  Mean Model                                 \n",
       "=============================================================================\n",
       "                 coef    std err          t      P>|t|       95.0% Conf. Int.\n",
       "-----------------------------------------------------------------------------\n",
       "mu         2.8505e-06  2.674e-04  1.066e-02      0.991 [-5.212e-04,5.269e-04]\n",
       "                              Volatility Model                              \n",
       "============================================================================\n",
       "                 coef    std err          t      P>|t|      95.0% Conf. Int.\n",
       "----------------------------------------------------------------------------\n",
       "omega      1.5881e-04  2.875e-05      5.524  3.310e-08 [1.025e-04,2.152e-04]\n",
       "alpha[1]       0.0118      0.276  4.264e-02      0.966     [ -0.529,  0.553]\n",
       "alpha[2]       0.0118      0.135  8.726e-02      0.930     [ -0.253,  0.276]\n",
       "alpha[3]       0.0118      0.270  4.350e-02      0.965     [ -0.518,  0.542]\n",
       "alpha[4]       0.0118      0.269  4.375e-02      0.965     [ -0.515,  0.539]\n",
       "alpha[5]       0.0118      0.165  7.120e-02      0.943     [ -0.312,  0.336]\n",
       "alpha[6]       0.0118      0.116      0.102      0.919     [ -0.215,  0.239]\n",
       "alpha[7]       0.0118      0.125  9.427e-02      0.925     [ -0.233,  0.256]\n",
       "alpha[8]       0.0118      0.238  4.938e-02      0.961     [ -0.455,  0.479]\n",
       "alpha[9]       0.0118      0.170  6.906e-02      0.945     [ -0.322,  0.346]\n",
       "alpha[10]      0.0118      0.197  5.961e-02      0.952     [ -0.375,  0.399]\n",
       "alpha[11]      0.0118      0.149  7.874e-02      0.937     [ -0.281,  0.305]\n",
       "alpha[12]      0.0118      0.118  9.943e-02      0.921     [ -0.220,  0.244]\n",
       "alpha[13]      0.0118      0.163  7.231e-02      0.942     [ -0.307,  0.331]\n",
       "alpha[14]      0.0118      0.112      0.105      0.916     [ -0.207,  0.231]\n",
       "alpha[15]      0.0118  7.722e-02      0.152      0.879     [ -0.140,  0.163]\n",
       "alpha[16]      0.0118  7.551e-02      0.156      0.876     [ -0.136,  0.160]\n",
       "alpha[17]      0.0118  8.646e-02      0.136      0.892     [ -0.158,  0.181]\n",
       "beta[1]        0.1300      1.035      0.126      0.900     [ -1.898,  2.158]\n",
       "beta[2]        0.1300      1.096      0.119      0.906     [ -2.019,  2.279]\n",
       "beta[3]        0.1300      1.567  8.298e-02      0.934     [ -2.940,  3.200]\n",
       "beta[4]        0.1300      1.954  6.653e-02      0.947     [ -3.700,  3.960]\n",
       "beta[5]        0.1300      1.369  9.493e-02      0.924     [ -2.554,  2.814]\n",
       "beta[6]        0.1300      0.652      0.199      0.842     [ -1.148,  1.408]\n",
       "============================================================================\n",
       "\n",
       "Covariance estimator: robust\n",
       "\"\"\""
      ]
     },
     "execution_count": 104,
     "metadata": {},
     "output_type": "execute_result"
    }
   ],
   "source": [
    "model_arhc_fitted.summary()"
   ]
  },
  {
   "cell_type": "code",
   "execution_count": 118,
   "id": "small-appointment",
   "metadata": {},
   "outputs": [
    {
     "name": "stdout",
     "output_type": "stream",
     "text": [
      "Predicted Values: [0.00094934 0.00096629 0.00097698 0.0009969  0.00101388],\n",
      "Real Values: [ 0.00044282 -0.00340681  0.00208357  0.00299893  0.01070943]\n"
     ]
    }
   ],
   "source": [
    "print(f\"\"\"Predicted Values: {model_arhc_fitted.forecast(horizon=5).variance.values[-1]},\\nReal Values: {model_fitted.resid.values[-5:]}\"\"\")"
   ]
  },
  {
   "cell_type": "code",
   "execution_count": null,
   "id": "everyday-definition",
   "metadata": {},
   "outputs": [],
   "source": []
  }
 ],
 "metadata": {
  "kernelspec": {
   "display_name": "Python 3",
   "language": "python",
   "name": "python3"
  },
  "language_info": {
   "codemirror_mode": {
    "name": "ipython",
    "version": 3
   },
   "file_extension": ".py",
   "mimetype": "text/x-python",
   "name": "python",
   "nbconvert_exporter": "python",
   "pygments_lexer": "ipython3",
   "version": "3.9.2"
  }
 },
 "nbformat": 4,
 "nbformat_minor": 5
}
