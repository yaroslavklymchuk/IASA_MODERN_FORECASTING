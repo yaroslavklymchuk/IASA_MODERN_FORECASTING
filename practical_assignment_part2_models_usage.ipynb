{
 "cells": [
  {
   "cell_type": "code",
   "execution_count": 14,
   "id": "legitimate-albania",
   "metadata": {},
   "outputs": [],
   "source": [
    "import pandas as pd\n",
    "import numpy as np\n",
    "\n",
    "from arch import arch_model\n",
    "from statsmodels.tsa.arima.model import ARIMA\n",
    "\n",
    "import warnings\n",
    "warnings.filterwarnings('ignore')\n",
    "\n",
    "%matplotlib inline"
   ]
  },
  {
   "cell_type": "code",
   "execution_count": 2,
   "id": "automotive-wrong",
   "metadata": {},
   "outputs": [],
   "source": [
    "data = pd.read_csv('vodafone_data.csv')"
   ]
  },
  {
   "cell_type": "code",
   "execution_count": 3,
   "id": "higher-project",
   "metadata": {},
   "outputs": [
    {
     "data": {
      "text/html": [
       "<div>\n",
       "<style scoped>\n",
       "    .dataframe tbody tr th:only-of-type {\n",
       "        vertical-align: middle;\n",
       "    }\n",
       "\n",
       "    .dataframe tbody tr th {\n",
       "        vertical-align: top;\n",
       "    }\n",
       "\n",
       "    .dataframe thead th {\n",
       "        text-align: right;\n",
       "    }\n",
       "</style>\n",
       "<table border=\"1\" class=\"dataframe\">\n",
       "  <thead>\n",
       "    <tr style=\"text-align: right;\">\n",
       "      <th></th>\n",
       "      <th>Date</th>\n",
       "      <th>Open</th>\n",
       "      <th>High</th>\n",
       "      <th>Low</th>\n",
       "      <th>Close</th>\n",
       "      <th>Volume</th>\n",
       "    </tr>\n",
       "  </thead>\n",
       "  <tbody>\n",
       "    <tr>\n",
       "      <th>0</th>\n",
       "      <td>2016-02-11</td>\n",
       "      <td>29.330000</td>\n",
       "      <td>29.510000</td>\n",
       "      <td>29.030001</td>\n",
       "      <td>29.270000</td>\n",
       "      <td>4805000</td>\n",
       "    </tr>\n",
       "    <tr>\n",
       "      <th>1</th>\n",
       "      <td>2016-02-12</td>\n",
       "      <td>29.520000</td>\n",
       "      <td>29.950001</td>\n",
       "      <td>29.410000</td>\n",
       "      <td>29.900000</td>\n",
       "      <td>3116500</td>\n",
       "    </tr>\n",
       "    <tr>\n",
       "      <th>2</th>\n",
       "      <td>2016-02-16</td>\n",
       "      <td>29.950001</td>\n",
       "      <td>30.420000</td>\n",
       "      <td>29.900000</td>\n",
       "      <td>30.260000</td>\n",
       "      <td>4037900</td>\n",
       "    </tr>\n",
       "    <tr>\n",
       "      <th>3</th>\n",
       "      <td>2016-02-17</td>\n",
       "      <td>31.000000</td>\n",
       "      <td>31.320000</td>\n",
       "      <td>30.900000</td>\n",
       "      <td>31.090000</td>\n",
       "      <td>4313800</td>\n",
       "    </tr>\n",
       "    <tr>\n",
       "      <th>4</th>\n",
       "      <td>2016-02-18</td>\n",
       "      <td>31.090000</td>\n",
       "      <td>31.150000</td>\n",
       "      <td>30.920000</td>\n",
       "      <td>30.959999</td>\n",
       "      <td>3522800</td>\n",
       "    </tr>\n",
       "  </tbody>\n",
       "</table>\n",
       "</div>"
      ],
      "text/plain": [
       "         Date       Open       High        Low      Close   Volume\n",
       "0  2016-02-11  29.330000  29.510000  29.030001  29.270000  4805000\n",
       "1  2016-02-12  29.520000  29.950001  29.410000  29.900000  3116500\n",
       "2  2016-02-16  29.950001  30.420000  29.900000  30.260000  4037900\n",
       "3  2016-02-17  31.000000  31.320000  30.900000  31.090000  4313800\n",
       "4  2016-02-18  31.090000  31.150000  30.920000  30.959999  3522800"
      ]
     },
     "execution_count": 3,
     "metadata": {},
     "output_type": "execute_result"
    }
   ],
   "source": [
    "data.head()"
   ]
  },
  {
   "cell_type": "markdown",
   "id": "speaking-chair",
   "metadata": {},
   "source": [
    "## Підготовка даних"
   ]
  },
  {
   "cell_type": "code",
   "execution_count": 4,
   "id": "educational-relation",
   "metadata": {},
   "outputs": [],
   "source": [
    "def dataset_preprocess(df):\n",
    "    df['Date'] = pd.to_datetime(df['Date'])\n",
    "    df['Date_index'] = pd.DatetimeIndex(df['Date']) \n",
    "    \n",
    "    data_no_missing = df.copy(deep=True)\n",
    "\n",
    "    data_no_missing = data_no_missing.set_index('Date_index').asfreq('D')\n",
    "\n",
    "    for col in ['Open', 'High', 'Low', 'Close', 'Volume']:\n",
    "        data_no_missing[col] = data_no_missing[col].interpolate()\n",
    "\n",
    "    data_no_missing = data_no_missing.reset_index(drop=False)\n",
    "\n",
    "    data_no_missing['Date'] = pd.to_datetime(data_no_missing['Date_index']).dt.date\n",
    "    data_no_missing['year'] = pd.to_datetime(data_no_missing['Date']).dt.year\n",
    "    data_no_missing['quarter'] = pd.to_datetime(data_no_missing['Date']).dt.quarter\n",
    "    data_no_missing['month'] = pd.to_datetime(data_no_missing['Date']).dt.month\n",
    "    \n",
    "    return df, data_no_missing"
   ]
  },
  {
   "cell_type": "code",
   "execution_count": 5,
   "id": "loved-browser",
   "metadata": {},
   "outputs": [],
   "source": [
    "df, data_no_missing = dataset_preprocess(data)"
   ]
  },
  {
   "cell_type": "markdown",
   "id": "backed-chocolate",
   "metadata": {},
   "source": [
    "### Прогноз ціни на акції на кінець дня на один крок вперед"
   ]
  },
  {
   "cell_type": "code",
   "execution_count": 6,
   "id": "inside-microphone",
   "metadata": {
    "scrolled": true
   },
   "outputs": [
    {
     "data": {
      "text/html": [
       "<div>\n",
       "<style scoped>\n",
       "    .dataframe tbody tr th:only-of-type {\n",
       "        vertical-align: middle;\n",
       "    }\n",
       "\n",
       "    .dataframe tbody tr th {\n",
       "        vertical-align: top;\n",
       "    }\n",
       "\n",
       "    .dataframe thead th {\n",
       "        text-align: right;\n",
       "    }\n",
       "</style>\n",
       "<table border=\"1\" class=\"dataframe\">\n",
       "  <thead>\n",
       "    <tr style=\"text-align: right;\">\n",
       "      <th></th>\n",
       "      <th>Date_index</th>\n",
       "      <th>Date</th>\n",
       "      <th>Open</th>\n",
       "      <th>High</th>\n",
       "      <th>Low</th>\n",
       "      <th>Close</th>\n",
       "      <th>Volume</th>\n",
       "      <th>year</th>\n",
       "      <th>quarter</th>\n",
       "      <th>month</th>\n",
       "    </tr>\n",
       "  </thead>\n",
       "  <tbody>\n",
       "    <tr>\n",
       "      <th>0</th>\n",
       "      <td>2016-02-11</td>\n",
       "      <td>2016-02-11</td>\n",
       "      <td>29.330000</td>\n",
       "      <td>29.510000</td>\n",
       "      <td>29.030001</td>\n",
       "      <td>29.27</td>\n",
       "      <td>4805000.0</td>\n",
       "      <td>2016</td>\n",
       "      <td>1</td>\n",
       "      <td>2</td>\n",
       "    </tr>\n",
       "    <tr>\n",
       "      <th>1</th>\n",
       "      <td>2016-02-12</td>\n",
       "      <td>2016-02-12</td>\n",
       "      <td>29.520000</td>\n",
       "      <td>29.950001</td>\n",
       "      <td>29.410000</td>\n",
       "      <td>29.90</td>\n",
       "      <td>3116500.0</td>\n",
       "      <td>2016</td>\n",
       "      <td>1</td>\n",
       "      <td>2</td>\n",
       "    </tr>\n",
       "    <tr>\n",
       "      <th>2</th>\n",
       "      <td>2016-02-13</td>\n",
       "      <td>2016-02-13</td>\n",
       "      <td>29.627500</td>\n",
       "      <td>30.067501</td>\n",
       "      <td>29.532500</td>\n",
       "      <td>29.99</td>\n",
       "      <td>3346850.0</td>\n",
       "      <td>2016</td>\n",
       "      <td>1</td>\n",
       "      <td>2</td>\n",
       "    </tr>\n",
       "    <tr>\n",
       "      <th>3</th>\n",
       "      <td>2016-02-14</td>\n",
       "      <td>2016-02-14</td>\n",
       "      <td>29.735000</td>\n",
       "      <td>30.185001</td>\n",
       "      <td>29.655000</td>\n",
       "      <td>30.08</td>\n",
       "      <td>3577200.0</td>\n",
       "      <td>2016</td>\n",
       "      <td>1</td>\n",
       "      <td>2</td>\n",
       "    </tr>\n",
       "    <tr>\n",
       "      <th>4</th>\n",
       "      <td>2016-02-15</td>\n",
       "      <td>2016-02-15</td>\n",
       "      <td>29.842501</td>\n",
       "      <td>30.302500</td>\n",
       "      <td>29.777500</td>\n",
       "      <td>30.17</td>\n",
       "      <td>3807550.0</td>\n",
       "      <td>2016</td>\n",
       "      <td>1</td>\n",
       "      <td>2</td>\n",
       "    </tr>\n",
       "  </tbody>\n",
       "</table>\n",
       "</div>"
      ],
      "text/plain": [
       "  Date_index        Date       Open       High        Low  Close     Volume  \\\n",
       "0 2016-02-11  2016-02-11  29.330000  29.510000  29.030001  29.27  4805000.0   \n",
       "1 2016-02-12  2016-02-12  29.520000  29.950001  29.410000  29.90  3116500.0   \n",
       "2 2016-02-13  2016-02-13  29.627500  30.067501  29.532500  29.99  3346850.0   \n",
       "3 2016-02-14  2016-02-14  29.735000  30.185001  29.655000  30.08  3577200.0   \n",
       "4 2016-02-15  2016-02-15  29.842501  30.302500  29.777500  30.17  3807550.0   \n",
       "\n",
       "   year  quarter  month  \n",
       "0  2016        1      2  \n",
       "1  2016        1      2  \n",
       "2  2016        1      2  \n",
       "3  2016        1      2  \n",
       "4  2016        1      2  "
      ]
     },
     "execution_count": 6,
     "metadata": {},
     "output_type": "execute_result"
    }
   ],
   "source": [
    "data_no_missing.head()"
   ]
  },
  {
   "cell_type": "code",
   "execution_count": 12,
   "id": "other-retreat",
   "metadata": {},
   "outputs": [],
   "source": [
    "REAL_CLOSE_NEXT_1_STEP = 18.70"
   ]
  },
  {
   "cell_type": "code",
   "execution_count": 8,
   "id": "tired-legislation",
   "metadata": {},
   "outputs": [],
   "source": [
    "model = ARIMA(data_no_missing['Close'], order=(8, 2, 9))"
   ]
  },
  {
   "cell_type": "code",
   "execution_count": 9,
   "id": "received-pharmaceutical",
   "metadata": {},
   "outputs": [],
   "source": [
    "model_fitted = model.fit()"
   ]
  },
  {
   "cell_type": "code",
   "execution_count": 13,
   "id": "proof-search",
   "metadata": {},
   "outputs": [
    {
     "name": "stdout",
     "output_type": "stream",
     "text": [
      "Predicted Value: 18.76108362000851, Real value: 18.7\n"
     ]
    }
   ],
   "source": [
    "print(f'Predicted Value: {model_fitted.forecast().values[0]}, Real value: {REAL_CLOSE_NEXT_1_STEP}')"
   ]
  },
  {
   "cell_type": "markdown",
   "id": "smart-stage",
   "metadata": {},
   "source": [
    "### Прогноз наступного значення дисперсії на 1 крок"
   ]
  },
  {
   "cell_type": "code",
   "execution_count": 15,
   "id": "instructional-young",
   "metadata": {},
   "outputs": [],
   "source": [
    "CLOSING_VALUES = data_no_missing.Close.tolist() + [REAL_CLOSE_NEXT_1_STEP]"
   ]
  },
  {
   "cell_type": "code",
   "execution_count": 16,
   "id": "digital-defensive",
   "metadata": {},
   "outputs": [
    {
     "data": {
      "text/plain": [
       "35.8778397721716"
      ]
     },
     "execution_count": 16,
     "metadata": {},
     "output_type": "execute_result"
    }
   ],
   "source": [
    "REAL_VARIANCE_NON_STATIONARY = pd.Series(CLOSING_VALUES).std() ** 2\n",
    "REAL_VARIANCE_NON_STATIONARY"
   ]
  },
  {
   "cell_type": "code",
   "execution_count": 17,
   "id": "matched-devon",
   "metadata": {},
   "outputs": [],
   "source": [
    "def to_stationary(df, target_column='Close'):\n",
    "    ts_log = np.log(df[target_column])\n",
    "    ts_diff = ts_log.diff(periods=1).dropna()\n",
    "    stationary_ts = ts_diff.diff(periods=1).dropna()\n",
    "    \n",
    "    return stationary_ts"
   ]
  },
  {
   "cell_type": "code",
   "execution_count": 18,
   "id": "little-bibliography",
   "metadata": {},
   "outputs": [],
   "source": [
    "df_stationary = to_stationary(data_no_missing)"
   ]
  },
  {
   "cell_type": "code",
   "execution_count": 19,
   "id": "rational-fifteen",
   "metadata": {},
   "outputs": [
    {
     "data": {
      "text/plain": [
       "0.0003568731924588563"
      ]
     },
     "execution_count": 19,
     "metadata": {},
     "output_type": "execute_result"
    }
   ],
   "source": [
    "REAL_VARIANCE_STATIONARY = pd.Series(df_stationary).std() ** 2\n",
    "REAL_VARIANCE_STATIONARY"
   ]
  },
  {
   "cell_type": "code",
   "execution_count": 20,
   "id": "conceptual-binary",
   "metadata": {},
   "outputs": [],
   "source": [
    "model_arhc = arch_model(np.power(df_stationary, 2), p=17, q=6, vol='GARCH')"
   ]
  },
  {
   "cell_type": "code",
   "execution_count": 21,
   "id": "southeast-field",
   "metadata": {},
   "outputs": [
    {
     "name": "stdout",
     "output_type": "stream",
     "text": [
      "Iteration:      1,   Func. Count:     27,   Neg. LLF: 4989613007135304.0\n",
      "Iteration:      2,   Func. Count:     62,   Neg. LLF: -8551.299306739225\n",
      "Inequality constraints incompatible    (Exit mode 4)\n",
      "            Current function value: -8551.299297552061\n",
      "            Iterations: 2\n",
      "            Function evaluations: 62\n",
      "            Gradient evaluations: 2\n"
     ]
    },
    {
     "name": "stderr",
     "output_type": "stream",
     "text": [
      "/home/yaroslav/.local/lib/python3.9/site-packages/arch/univariate/base.py:750: ConvergenceWarning: The optimizer returned code 4. The message is:\n",
      "Inequality constraints incompatible\n",
      "See scipy.optimize.fmin_slsqp for code meaning.\n",
      "\n",
      "  warnings.warn(\n"
     ]
    }
   ],
   "source": [
    "model_arhc_fitted = model_arhc.fit()"
   ]
  },
  {
   "cell_type": "code",
   "execution_count": 22,
   "id": "conceptual-microphone",
   "metadata": {},
   "outputs": [
    {
     "data": {
      "text/html": [
       "<table class=\"simpletable\">\n",
       "<caption>Constant Mean - GARCH Model Results</caption>\n",
       "<tr>\n",
       "  <th>Dep. Variable:</th>        <td>Close</td>       <th>  R-squared:         </th>  <td>   0.000</td> \n",
       "</tr>\n",
       "<tr>\n",
       "  <th>Mean Model:</th>       <td>Constant Mean</td>   <th>  Adj. R-squared:    </th>  <td>   0.000</td> \n",
       "</tr>\n",
       "<tr>\n",
       "  <th>Vol Model:</th>            <td>GARCH</td>       <th>  Log-Likelihood:    </th> <td>   8551.30</td>\n",
       "</tr>\n",
       "<tr>\n",
       "  <th>Distribution:</th>        <td>Normal</td>       <th>  AIC:               </th> <td>  -17052.6</td>\n",
       "</tr>\n",
       "<tr>\n",
       "  <th>Method:</th>        <td>Maximum Likelihood</td> <th>  BIC:               </th> <td>  -16914.9</td>\n",
       "</tr>\n",
       "<tr>\n",
       "  <th></th>                        <td></td>          <th>  No. Observations:  </th>    <td>1826</td>   \n",
       "</tr>\n",
       "<tr>\n",
       "  <th>Date:</th>           <td>Sun, Mar 21 2021</td>  <th>  Df Residuals:      </th>    <td>1825</td>   \n",
       "</tr>\n",
       "<tr>\n",
       "  <th>Time:</th>               <td>23:15:27</td>      <th>  Df Model:          </th>      <td>1</td>    \n",
       "</tr>\n",
       "</table>\n",
       "<table class=\"simpletable\">\n",
       "<caption>Mean Model</caption>\n",
       "<tr>\n",
       "   <td></td>     <th>coef</th>      <th>std err</th>       <th>t</th>     <th>P>|t|</th>    <th>95.0% Conf. Int.</th>    \n",
       "</tr>\n",
       "<tr>\n",
       "  <th>mu</th> <td>-1.6094e-03</td> <td>1.270e-10</td> <td>-1.268e+07</td> <td>0.000</td> <td>[-1.609e-03,-1.609e-03]</td>\n",
       "</tr>\n",
       "</table>\n",
       "<table class=\"simpletable\">\n",
       "<caption>Volatility Model</caption>\n",
       "<tr>\n",
       "      <td></td>         <th>coef</th>     <th>std err</th>      <th>t</th>       <th>P>|t|</th>      <th>95.0% Conf. Int.</th>   \n",
       "</tr>\n",
       "<tr>\n",
       "  <th>omega</th>     <td>4.9156e-08</td> <td>8.046e-14</td> <td>6.109e+05</td>   <td>0.000</td>    <td>[4.916e-08,4.916e-08]</td>\n",
       "</tr>\n",
       "<tr>\n",
       "  <th>alpha[1]</th>  <td>    0.0118</td> <td>1.229e-02</td> <td>    0.957</td> <td>    0.338</td> <td>[-1.232e-02,3.585e-02]</td>\n",
       "</tr>\n",
       "<tr>\n",
       "  <th>alpha[2]</th>  <td>    0.0118</td> <td>3.380e-02</td> <td>    0.348</td> <td>    0.728</td> <td>[-5.447e-02,7.800e-02]</td>\n",
       "</tr>\n",
       "<tr>\n",
       "  <th>alpha[3]</th>  <td>    0.0118</td> <td>4.414e-02</td> <td>    0.267</td> <td>    0.790</td> <td>[-7.474e-02,9.827e-02]</td>\n",
       "</tr>\n",
       "<tr>\n",
       "  <th>alpha[4]</th>  <td>    0.0118</td> <td>6.637e-02</td> <td>    0.177</td> <td>    0.859</td>    <td>[ -0.118,  0.142]</td>  \n",
       "</tr>\n",
       "<tr>\n",
       "  <th>alpha[5]</th>  <td>    0.0118</td> <td>5.328e-02</td> <td>    0.221</td> <td>    0.825</td>  <td>[-9.266e-02,  0.116]</td> \n",
       "</tr>\n",
       "<tr>\n",
       "  <th>alpha[6]</th>  <td>    0.0118</td> <td>6.903e-02</td> <td>    0.170</td> <td>    0.865</td>    <td>[ -0.124,  0.147]</td>  \n",
       "</tr>\n",
       "<tr>\n",
       "  <th>alpha[7]</th>  <td>    0.0118</td> <td>5.448e-02</td> <td>    0.216</td> <td>    0.829</td>  <td>[-9.501e-02,  0.119]</td> \n",
       "</tr>\n",
       "<tr>\n",
       "  <th>alpha[8]</th>  <td>    0.0118</td> <td>3.054e-02</td> <td>    0.385</td> <td>    0.700</td> <td>[-4.809e-02,7.162e-02]</td>\n",
       "</tr>\n",
       "<tr>\n",
       "  <th>alpha[9]</th>  <td>    0.0118</td> <td>5.103e-02</td> <td>    0.231</td> <td>    0.818</td>  <td>[-8.826e-02,  0.112]</td> \n",
       "</tr>\n",
       "<tr>\n",
       "  <th>alpha[10]</th> <td>    0.0118</td> <td>8.077e-02</td> <td>    0.146</td> <td>    0.884</td>    <td>[ -0.147,  0.170]</td>  \n",
       "</tr>\n",
       "<tr>\n",
       "  <th>alpha[11]</th> <td>    0.0118</td> <td>    0.138</td> <td>8.530e-02</td> <td>    0.932</td>    <td>[ -0.259,  0.282]</td>  \n",
       "</tr>\n",
       "<tr>\n",
       "  <th>alpha[12]</th> <td>    0.0118</td> <td>    0.130</td> <td>9.025e-02</td> <td>    0.928</td>    <td>[ -0.244,  0.267]</td>  \n",
       "</tr>\n",
       "<tr>\n",
       "  <th>alpha[13]</th> <td>    0.0118</td> <td>    0.132</td> <td>8.940e-02</td> <td>    0.929</td>    <td>[ -0.246,  0.270]</td>  \n",
       "</tr>\n",
       "<tr>\n",
       "  <th>alpha[14]</th> <td>    0.0118</td> <td>    0.109</td> <td>    0.108</td> <td>    0.914</td>    <td>[ -0.201,  0.225]</td>  \n",
       "</tr>\n",
       "<tr>\n",
       "  <th>alpha[15]</th> <td>    0.0118</td> <td>    0.484</td> <td>2.428e-02</td> <td>    0.981</td>    <td>[ -0.938,  0.961]</td>  \n",
       "</tr>\n",
       "<tr>\n",
       "  <th>alpha[16]</th> <td>    0.0118</td> <td>    0.311</td> <td>3.783e-02</td> <td>    0.970</td>    <td>[ -0.598,  0.621]</td>  \n",
       "</tr>\n",
       "<tr>\n",
       "  <th>alpha[17]</th> <td>    0.0118</td> <td>    0.599</td> <td>1.963e-02</td> <td>    0.984</td>    <td>[ -1.163,  1.187]</td>  \n",
       "</tr>\n",
       "<tr>\n",
       "  <th>beta[1]</th>   <td>    0.1300</td> <td>    0.174</td> <td>    0.747</td> <td>    0.455</td>    <td>[ -0.211,  0.471]</td>  \n",
       "</tr>\n",
       "<tr>\n",
       "  <th>beta[2]</th>   <td>    0.1300</td> <td>    0.165</td> <td>    0.786</td> <td>    0.432</td>    <td>[ -0.194,  0.454]</td>  \n",
       "</tr>\n",
       "<tr>\n",
       "  <th>beta[3]</th>   <td>    0.1300</td> <td>    0.198</td> <td>    0.655</td> <td>    0.512</td>    <td>[ -0.259,  0.519]</td>  \n",
       "</tr>\n",
       "<tr>\n",
       "  <th>beta[4]</th>   <td>    0.1300</td> <td>    0.463</td> <td>    0.281</td> <td>    0.779</td>    <td>[ -0.778,  1.038]</td>  \n",
       "</tr>\n",
       "<tr>\n",
       "  <th>beta[5]</th>   <td>    0.1300</td> <td>    0.332</td> <td>    0.392</td> <td>    0.695</td>    <td>[ -0.520,  0.780]</td>  \n",
       "</tr>\n",
       "<tr>\n",
       "  <th>beta[6]</th>   <td>    0.1300</td> <td>    0.652</td> <td>    0.199</td> <td>    0.842</td>    <td>[ -1.148,  1.408]</td>  \n",
       "</tr>\n",
       "</table><br/><br/>Covariance estimator: robust<br/>WARNING: The optimizer did not indicate successful convergence. The message was Inequality constraints incompatible.<br/>See convergence_flag.<br/>"
      ],
      "text/plain": [
       "<class 'statsmodels.iolib.summary.Summary'>\n",
       "\"\"\"\n",
       "                     Constant Mean - GARCH Model Results                      \n",
       "==============================================================================\n",
       "Dep. Variable:                  Close   R-squared:                       0.000\n",
       "Mean Model:             Constant Mean   Adj. R-squared:                  0.000\n",
       "Vol Model:                      GARCH   Log-Likelihood:                8551.30\n",
       "Distribution:                  Normal   AIC:                          -17052.6\n",
       "Method:            Maximum Likelihood   BIC:                          -16914.9\n",
       "                                        No. Observations:                 1826\n",
       "Date:                Sun, Mar 21 2021   Df Residuals:                     1825\n",
       "Time:                        23:15:27   Df Model:                            1\n",
       "                                   Mean Model                                  \n",
       "===============================================================================\n",
       "                  coef    std err          t      P>|t|        95.0% Conf. Int.\n",
       "-------------------------------------------------------------------------------\n",
       "mu         -1.6094e-03  1.270e-10 -1.268e+07      0.000 [-1.609e-03,-1.609e-03]\n",
       "                               Volatility Model                              \n",
       "=============================================================================\n",
       "                 coef    std err          t      P>|t|       95.0% Conf. Int.\n",
       "-----------------------------------------------------------------------------\n",
       "omega      4.9156e-08  8.046e-14  6.109e+05      0.000  [4.916e-08,4.916e-08]\n",
       "alpha[1]       0.0118  1.229e-02      0.957      0.338 [-1.232e-02,3.585e-02]\n",
       "alpha[2]       0.0118  3.380e-02      0.348      0.728 [-5.447e-02,7.800e-02]\n",
       "alpha[3]       0.0118  4.414e-02      0.267      0.790 [-7.474e-02,9.827e-02]\n",
       "alpha[4]       0.0118  6.637e-02      0.177      0.859      [ -0.118,  0.142]\n",
       "alpha[5]       0.0118  5.328e-02      0.221      0.825   [-9.266e-02,  0.116]\n",
       "alpha[6]       0.0118  6.903e-02      0.170      0.865      [ -0.124,  0.147]\n",
       "alpha[7]       0.0118  5.448e-02      0.216      0.829   [-9.501e-02,  0.119]\n",
       "alpha[8]       0.0118  3.054e-02      0.385      0.700 [-4.809e-02,7.162e-02]\n",
       "alpha[9]       0.0118  5.103e-02      0.231      0.818   [-8.826e-02,  0.112]\n",
       "alpha[10]      0.0118  8.077e-02      0.146      0.884      [ -0.147,  0.170]\n",
       "alpha[11]      0.0118      0.138  8.530e-02      0.932      [ -0.259,  0.282]\n",
       "alpha[12]      0.0118      0.130  9.025e-02      0.928      [ -0.244,  0.267]\n",
       "alpha[13]      0.0118      0.132  8.940e-02      0.929      [ -0.246,  0.270]\n",
       "alpha[14]      0.0118      0.109      0.108      0.914      [ -0.201,  0.225]\n",
       "alpha[15]      0.0118      0.484  2.428e-02      0.981      [ -0.938,  0.961]\n",
       "alpha[16]      0.0118      0.311  3.783e-02      0.970      [ -0.598,  0.621]\n",
       "alpha[17]      0.0118      0.599  1.963e-02      0.984      [ -1.163,  1.187]\n",
       "beta[1]        0.1300      0.174      0.747      0.455      [ -0.211,  0.471]\n",
       "beta[2]        0.1300      0.165      0.786      0.432      [ -0.194,  0.454]\n",
       "beta[3]        0.1300      0.198      0.655      0.512      [ -0.259,  0.519]\n",
       "beta[4]        0.1300      0.463      0.281      0.779      [ -0.778,  1.038]\n",
       "beta[5]        0.1300      0.332      0.392      0.695      [ -0.520,  0.780]\n",
       "beta[6]        0.1300      0.652      0.199      0.842      [ -1.148,  1.408]\n",
       "=============================================================================\n",
       "\n",
       "Covariance estimator: robust\n",
       "WARNING: The optimizer did not indicate successful convergence. The message was Inequality constraints incompatible.\n",
       "See convergence_flag.\n",
       "\n",
       "\"\"\""
      ]
     },
     "execution_count": 22,
     "metadata": {},
     "output_type": "execute_result"
    }
   ],
   "source": [
    "model_arhc_fitted.summary()"
   ]
  },
  {
   "cell_type": "code",
   "execution_count": 25,
   "id": "small-appointment",
   "metadata": {},
   "outputs": [
    {
     "name": "stdout",
     "output_type": "stream",
     "text": [
      "Predicted Value: 5.168567792006029e-06,\n",
      "      Real Value: 0.0003568731924588563\n"
     ]
    }
   ],
   "source": [
    "print(f\"\"\"Predicted Value: {model_arhc_fitted.forecast(horizon=1).variance.values[-1][0]},\n",
    "      Real Value: {REAL_VARIANCE_STATIONARY}\"\"\")"
   ]
  },
  {
   "cell_type": "code",
   "execution_count": null,
   "id": "every-territory",
   "metadata": {},
   "outputs": [],
   "source": []
  },
  {
   "cell_type": "code",
   "execution_count": null,
   "id": "bearing-christopher",
   "metadata": {},
   "outputs": [],
   "source": []
  },
  {
   "cell_type": "code",
   "execution_count": null,
   "id": "angry-bikini",
   "metadata": {},
   "outputs": [],
   "source": []
  }
 ],
 "metadata": {
  "kernelspec": {
   "display_name": "Python 3",
   "language": "python",
   "name": "python3"
  },
  "language_info": {
   "codemirror_mode": {
    "name": "ipython",
    "version": 3
   },
   "file_extension": ".py",
   "mimetype": "text/x-python",
   "name": "python",
   "nbconvert_exporter": "python",
   "pygments_lexer": "ipython3",
   "version": "3.9.2"
  }
 },
 "nbformat": 4,
 "nbformat_minor": 5
}
